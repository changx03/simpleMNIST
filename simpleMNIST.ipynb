{
 "cells": [
  {
   "cell_type": "code",
   "execution_count": 1,
   "metadata": {},
   "outputs": [
    {
     "name": "stderr",
     "output_type": "stream",
     "text": [
      "Using TensorFlow backend.\n"
     ]
    },
    {
     "name": "stdout",
     "output_type": "stream",
     "text": [
      "(50000, 28, 28) (50000,)\n"
     ]
    },
    {
     "data": {
      "image/png": "[encoded data removed]",
      "text/plain": [
       "<matplotlib.figure.Figure at 0x22beccac208>"
      ]
     },
     "metadata": {},
     "output_type": "display_data"
    }
   ],
   "source": [
    "from preprocessed_mnist import load_dataset\n",
    "X_train, y_train, X_val, y_val, X_test, y_test = load_dataset()\n",
    "print(X_train.shape, y_train.shape)\n",
    "import matplotlib.pyplot as plt\n",
    "%matplotlib inline\n",
    "plt.imshow(X_train[0], cmap=\"Greys\");"
   ]
  },
  {
   "cell_type": "code",
   "execution_count": 2,
   "metadata": {
    "collapsed": true
   },
   "outputs": [],
   "source": [
    "import numpy as np\n",
    "import tensorflow as tf\n",
    "from tensorflow.python.framework import ops\n",
    "import matplotlib.pyplot as plt"
   ]
  },
  {
   "cell_type": "code",
   "execution_count": 3,
   "metadata": {},
   "outputs": [
    {
     "name": "stdout",
     "output_type": "stream",
     "text": [
      "(50000, 28, 28)\n",
      "m = 50000 n =  784\n"
     ]
    }
   ],
   "source": [
    "# Get size for training, development (validation), test sets\n",
    "print(X_train.shape)\n",
    "m = X_train.shape[0]  # num of training images\n",
    "n = X_train.shape[1] * X_train.shape[1]  # num of features in 1 image\n",
    "c = 10 # output has 10 classes\n",
    "print('m =', m, 'n = ', n)"
   ]
  },
  {
   "cell_type": "code",
   "execution_count": 4,
   "metadata": {
    "collapsed": true
   },
   "outputs": [],
   "source": [
    "# Flatten traingin and test images\n",
    "def flattenRawData(rawData):\n",
    "    return rawData.reshape((rawData.shape[0], -1))\n",
    "\n",
    "X_train_flat = flattenRawData(X_train)\n",
    "X_val_flat = flattenRawData(X_val)\n",
    "X_test_flat =flattenRawData(X_test)\n",
    "\n",
    "# The grayscale images do not require normalize"
   ]
  },
  {
   "cell_type": "code",
   "execution_count": 5,
   "metadata": {},
   "outputs": [
    {
     "name": "stdout",
     "output_type": "stream",
     "text": [
      "X_train_flat.shape =  (50000, 784)\n",
      "X_val_flat.shape =  (10000, 784)\n",
      "X_test_flat.shape =  (10000, 784)\n"
     ]
    }
   ],
   "source": [
    "# Testing bolck \n",
    "print('X_train_flat.shape = ', X_train_flat.shape)\n",
    "print('X_val_flat.shape = ', X_val_flat.shape)\n",
    "print('X_test_flat.shape = ', X_test_flat.shape)"
   ]
  },
  {
   "cell_type": "code",
   "execution_count": 6,
   "metadata": {
    "collapsed": true
   },
   "outputs": [],
   "source": [
    "# Using one hot encoding to generate a m(# of samples) x c(# of classes) matrix\n",
    "# eg: when c = 3, [[0],[1],[2]] becomes [[1,0,0],[0,1,0],[0,0,1]]\n",
    "def oneHotMatrix(y, C):\n",
    "    C = tf.constant(C)\n",
    "    oneHotMat = tf.one_hot(y, C, axis=1)\n",
    "    sess = tf.Session()\n",
    "    one_hot = sess.run(oneHotMat)\n",
    "    sess.close()\n",
    "    return np.squeeze(one_hot)"
   ]
  },
  {
   "cell_type": "code",
   "execution_count": 7,
   "metadata": {},
   "outputs": [
    {
     "name": "stdout",
     "output_type": "stream",
     "text": [
      "y_train_hot.shape =  (50000, 10)\n",
      "y_train[5] =  2\n",
      "y_train_hot[5,:] =  [ 0.  0.  1.  0.  0.  0.  0.  0.  0.  0.]\n"
     ]
    }
   ],
   "source": [
    "# Testing bolck \n",
    "y_train_hot = oneHotMatrix(y_train, c)\n",
    "y_val_hot = oneHotMatrix(y_val, c)\n",
    "y_test_hot = oneHotMatrix(y_test, c)\n",
    "print('y_train_hot.shape = ', y_train_hot.shape)\n",
    "print('y_train[5] = ', y_train[5])\n",
    "print('y_train_hot[5,:] = ', str(y_train_hot[5,:]))"
   ]
  },
  {
   "cell_type": "code",
   "execution_count": 8,
   "metadata": {
    "collapsed": true
   },
   "outputs": [],
   "source": [
    "# create Tensors: initializing parameters and creating placeholders\n",
    "def createPlaceHolders(n, c):\n",
    "    X = tf.placeholder(tf.float32, shape=(None, n))\n",
    "    Y = tf.placeholder(tf.float32, shape=(None, c))\n",
    "    return X, Y"
   ]
  },
  {
   "cell_type": "code",
   "execution_count": 9,
   "metadata": {},
   "outputs": [
    {
     "name": "stdout",
     "output_type": "stream",
     "text": [
      "X = Tensor(\"Placeholder:0\", shape=(?, 784), dtype=float32)\n",
      "Y = Tensor(\"Placeholder_1:0\", shape=(?, 10), dtype=float32)\n"
     ]
    }
   ],
   "source": [
    "# Testing bolck \n",
    "X, Y = createPlaceHolders(n, c)\n",
    "print ('X = ' + str(X))\n",
    "print ('Y = ' + str(Y))"
   ]
  },
  {
   "cell_type": "code",
   "execution_count": 10,
   "metadata": {
    "collapsed": true
   },
   "outputs": [],
   "source": [
    "# Initialize 2 hidden layers\n",
    "def initParameters(n, n_h1, n_h2, c):\n",
    "    tf.set_random_seed(1)\n",
    "    W1 = tf.get_variable('W1', [n, n_h1], initializer= tf.contrib.layers.xavier_initializer(seed=1))\n",
    "    b1 = tf.get_variable('b1', [1, n_h1], initializer= tf.zeros_initializer())\n",
    "    W2 = tf.get_variable('W2', [n_h1, n_h2], initializer= tf.contrib.layers.xavier_initializer(seed=1))\n",
    "    b2 = tf.get_variable('b2', [1, n_h2], initializer= tf.zeros_initializer())\n",
    "    W3 = tf.get_variable('W3', [n_h2, c], initializer= tf.contrib.layers.xavier_initializer(seed=1))\n",
    "    b3 = tf.get_variable('b3', [1, c], initializer= tf.zeros_initializer())\n",
    "    return {'W1': W1, 'b1': b1, 'W2': W2, 'b2': b2, 'W3': W3, 'b3': b3}"
   ]
  },
  {
   "cell_type": "code",
   "execution_count": 11,
   "metadata": {},
   "outputs": [
    {
     "name": "stdout",
     "output_type": "stream",
     "text": [
      "W1 = <tf.Variable 'W1:0' shape=(784, 64) dtype=float32_ref>\n",
      "b1 = <tf.Variable 'b1:0' shape=(1, 64) dtype=float32_ref>\n",
      "W2 = <tf.Variable 'W2:0' shape=(64, 32) dtype=float32_ref>\n",
      "b2 = <tf.Variable 'b2:0' shape=(1, 32) dtype=float32_ref>\n",
      "W3 = <tf.Variable 'W3:0' shape=(32, 10) dtype=float32_ref>\n",
      "b3 = <tf.Variable 'b3:0' shape=(1, 10) dtype=float32_ref>\n"
     ]
    }
   ],
   "source": [
    "# Testing bolck \n",
    "tf.reset_default_graph()\n",
    "with tf.Session() as sess:\n",
    "    parameters = initParameters(n, 64, 32, c)\n",
    "    print('W1 = ' + str(parameters['W1']))\n",
    "    print('b1 = ' + str(parameters['b1']))\n",
    "    print('W2 = ' + str(parameters['W2']))\n",
    "    print('b2 = ' + str(parameters['b2']))\n",
    "    print('W3 = ' + str(parameters['W3']))\n",
    "    print('b3 = ' + str(parameters['b3']))"
   ]
  },
  {
   "cell_type": "code",
   "execution_count": 12,
   "metadata": {
    "collapsed": true
   },
   "outputs": [],
   "source": [
    "# Activation function can be sigmoid or ReLu\n",
    "def forwardProp(X, parameters, method = 'relu'):\n",
    "    W1 = parameters['W1']\n",
    "    b1 = parameters['b1']\n",
    "    W2 = parameters['W2']\n",
    "    b2 = parameters['b2']\n",
    "    W3 = parameters['W3']\n",
    "    b3 = parameters['b3']\n",
    "    Z1 = tf.add(tf.matmul(X, W1), b1)\n",
    "    if method == 'relu':\n",
    "        A1 = tf.nn.relu(Z1)\n",
    "    else:\n",
    "        A1 = tf.nn.sigmoid(Z1)\n",
    "    Z2 = tf.add(tf.matmul(A1, W2), b2)\n",
    "    if method == 'relu':\n",
    "        A2 = tf.nn.relu(Z2)\n",
    "    else:\n",
    "        A2 = tf.nn.sigmoid(Z2)\n",
    "    Z3 = tf.add(tf.matmul(A2, W3), b3)\n",
    "    return Z3"
   ]
  },
  {
   "cell_type": "code",
   "execution_count": 13,
   "metadata": {
    "collapsed": true
   },
   "outputs": [],
   "source": [
    "def computeCost(Z, Y):\n",
    "#     print('Z.shape=', Z.shape)\n",
    "#     print('Y.shape=', Y.shape)\n",
    "    cost = tf.reduce_mean(tf.nn.softmax_cross_entropy_with_logits(logits=Z, labels=Y))\n",
    "    return cost"
   ]
  },
  {
   "cell_type": "code",
   "execution_count": 14,
   "metadata": {},
   "outputs": [
    {
     "name": "stdout",
     "output_type": "stream",
     "text": [
      "cost =  Tensor(\"Mean:0\", shape=(), dtype=float32)\n"
     ]
    }
   ],
   "source": [
    "# Testing bolck \n",
    "tf.reset_default_graph()\n",
    "with tf.Session() as sess:\n",
    "    X, Y = createPlaceHolders(n, c)\n",
    "    parameters = initParameters(n, 64, 32, c)\n",
    "    Z = forwardProp(X, parameters)\n",
    "    cost = computeCost(Z, Y)\n",
    "    print('cost = ', cost)"
   ]
  },
  {
   "cell_type": "code",
   "execution_count": 15,
   "metadata": {
    "collapsed": true
   },
   "outputs": [],
   "source": [
    "# Generate mini batches\n",
    "def genMiniBatch(X, Y, mini_batch_size = 64, seed = 0):\n",
    "    # TODO: 1 shuffle, 2 partition, 3 handle the leftover\n",
    "    m = X.shape[0]    # # of training samples\n",
    "    mini_batches = []\n",
    "    np.random.seed(seed)    # reset RNG\n",
    "    \n",
    "    # shuffle\n",
    "    permutation = list(np.random.permutation(m))\n",
    "    shuffled_X = X[permutation, :]\n",
    "    shuffled_Y = Y[permutation, :] # ??? .reshape((m, Y.shape[1])) \n",
    "    \n",
    "    # partition\n",
    "    num_full_batches = int(np.floor(m/mini_batch_size))\n",
    "    for i in range(0, num_full_batches):\n",
    "        mini_batch_X = shuffled_X[i*mini_batch_size : i*mini_batch_size+mini_batch_size, :]\n",
    "        mini_batch_Y = shuffled_Y[i*mini_batch_size : i*mini_batch_size+mini_batch_size, :]\n",
    "        mini_batch = (mini_batch_X, mini_batch_Y)\n",
    "        mini_batches.append(mini_batch)\n",
    "    \n",
    "    # attach the leftover at the ned\n",
    "    if m % mini_batch_size !=0:\n",
    "        mini_batch_X = shuffled_X[num_full_batches * mini_batch_size : m, :]\n",
    "        mini_batch_Y = shuffled_Y[num_full_batches * mini_batch_size : m, :]\n",
    "        mini_batch = (mini_batch_X, mini_batch_Y)\n",
    "        mini_batches.append(mini_batch)\n",
    "    \n",
    "    return mini_batches"
   ]
  },
  {
   "cell_type": "code",
   "execution_count": 16,
   "metadata": {
    "collapsed": true
   },
   "outputs": [],
   "source": [
    "def drawPlot(data, x_label, y_label, title):\n",
    "    plt.plot(np.squeeze(data))\n",
    "    plt.ylabel(y_label)\n",
    "    plt.xlabel(x_label)\n",
    "    plt.title(title)\n",
    "    plt.show()"
   ]
  },
  {
   "cell_type": "code",
   "execution_count": 61,
   "metadata": {
    "collapsed": true
   },
   "outputs": [],
   "source": [
    "def model(X_train, Y_train, X_dev, Y_dev, \n",
    "          n_hidden1=64, n_hidden2=32, learning_rate=0.01, decay_rate=0.96, num_epochs=500, minibatch_size=128):\n",
    "    ops.reset_default_graph()\n",
    "    tf.set_random_seed(1)\n",
    "    (m, n) = X_train.shape\n",
    "    c = Y_train.shape[1]\n",
    "    print('m = ', m, 'n = ', n, 'c = ', c)\n",
    "    costs = []\n",
    "    learning_rates = []\n",
    "    seed = 1\n",
    "    num_minibatches = int(m/minibatch_size)\n",
    "    \n",
    "    # initialization\n",
    "    X, Y = createPlaceHolders(n, c)\n",
    "    parameters = initParameters(n, n_hidden1, n_hidden2, c)\n",
    "    \n",
    "    # forward propagation\n",
    "    Z = forwardProp(X, parameters)\n",
    "    # update cost\n",
    "    cost = computeCost(Z, Y)\n",
    "    \n",
    "    # ues learning rate decay\n",
    "    global_step = tf.Variable(0, trainable=False)\n",
    "    adapt_learning_rate = tf.train.natural_exp_decay(learning_rate, global_step, num_minibatches*20, decay_rate)\n",
    "    \n",
    "    # back propagation\n",
    "    optimizer = tf.train.AdamOptimizer(adapt_learning_rate).minimize(cost, global_step=global_step)    \n",
    "        \n",
    "    init = tf.global_variables_initializer()\n",
    "    with tf.Session() as sess:\n",
    "        sess.run(init)\n",
    "        \n",
    "        for epoch in range(num_epochs):\n",
    "            epoch_cost = 0.0\n",
    "            seed += 1\n",
    "            minibatches = genMiniBatch(X_train, Y_train, minibatch_size, seed)\n",
    "            \n",
    "            for minibatch in minibatches:\n",
    "                (mini_X, mini_Y) = minibatch\n",
    "                _ , mini_cost = sess.run([optimizer, cost], feed_dict={X: mini_X, Y: mini_Y})\n",
    "                epoch_cost += mini_cost / num_minibatches\n",
    "                \n",
    "            # print accuracy for dev set\n",
    "            if epoch % 20 == 0:\n",
    "                print (\"Cost after epoch %i: %f, Learning_rate = %f\" % (epoch, epoch_cost, adapt_learning_rate.eval()))\n",
    "            costs.append(epoch_cost)\n",
    "            learning_rates.append(adapt_learning_rate.eval())\n",
    "            \n",
    "            if epoch_cost < 1.0e-6:\n",
    "                break\n",
    "        \n",
    "        # plot cost\n",
    "        drawPlot(costs, 'iterations', 'cost', 'Cost vs. Iteration')\n",
    "        \n",
    "        # plot learning rate\n",
    "        drawPlot(learning_rates, 'iterations', 'Learning rate', 'Larning rate vs. Iteration')\n",
    "        \n",
    "        correct_prediction = tf.equal(tf.argmax(Z, axis=1), tf.argmax(Y, axis=1))\n",
    "        accuracy = tf.reduce_mean(tf.cast(correct_prediction, tf.float32))\n",
    "\n",
    "        print (\"Train Accuracy:\", accuracy.eval({X: X_train, Y: Y_train}))\n",
    "        print (\"Test Accuracy:\", accuracy.eval({X: X_dev, Y: Y_dev}))\n",
    "        \n",
    "        parameters = sess.run(parameters)\n",
    "        return parameters"
   ]
  },
  {
   "cell_type": "code",
   "execution_count": 62,
   "metadata": {},
   "outputs": [
    {
     "name": "stdout",
     "output_type": "stream",
     "text": [
      "m =  50000 n =  784 c =  10\n",
      "Cost after epoch 0: 0.246226, Learning_rate = 0.009530\n",
      "Cost after epoch 20: 0.007543, Learning_rate = 0.003640\n",
      "Cost after epoch 40: 0.000007, Learning_rate = 0.001390\n",
      "Cost after epoch 60: 0.000001, Learning_rate = 0.000531\n",
      "Cost after epoch 80: 0.000000, Learning_rate = 0.000203\n",
      "Cost after epoch 100: 0.000000, Learning_rate = 0.000077\n",
      "Cost after epoch 120: 0.000000, Learning_rate = 0.000030\n",
      "Cost after epoch 140: 0.000000, Learning_rate = 0.000011\n",
      "Cost after epoch 160: 0.000000, Learning_rate = 0.000004\n",
      "Cost after epoch 180: 0.000000, Learning_rate = 0.000002\n"
     ]
    },
    {
     "ename": "KeyboardInterrupt",
     "evalue": "",
     "output_type": "error",
     "traceback": [
      "\u001b[1;31m---------------------------------------------------------------------------\u001b[0m",
      "\u001b[1;31mKeyboardInterrupt\u001b[0m                         Traceback (most recent call last)",
      "\u001b[1;32m<timed exec>\u001b[0m in \u001b[0;36m<module>\u001b[1;34m()\u001b[0m\n",
      "\u001b[1;32m<ipython-input-61-0a87f5c8f25a>\u001b[0m in \u001b[0;36mmodel\u001b[1;34m(X_train, Y_train, X_dev, Y_dev, n_hidden1, n_hidden2, learning_rate, decay_rate, num_epochs, minibatch_size)\u001b[0m\n\u001b[0;32m     38\u001b[0m             \u001b[1;32mfor\u001b[0m \u001b[0mminibatch\u001b[0m \u001b[1;32min\u001b[0m \u001b[0mminibatches\u001b[0m\u001b[1;33m:\u001b[0m\u001b[1;33m\u001b[0m\u001b[0m\n\u001b[0;32m     39\u001b[0m                 \u001b[1;33m(\u001b[0m\u001b[0mmini_X\u001b[0m\u001b[1;33m,\u001b[0m \u001b[0mmini_Y\u001b[0m\u001b[1;33m)\u001b[0m \u001b[1;33m=\u001b[0m \u001b[0mminibatch\u001b[0m\u001b[1;33m\u001b[0m\u001b[0m\n\u001b[1;32m---> 40\u001b[1;33m                 \u001b[0m_\u001b[0m \u001b[1;33m,\u001b[0m \u001b[0mmini_cost\u001b[0m \u001b[1;33m=\u001b[0m \u001b[0msess\u001b[0m\u001b[1;33m.\u001b[0m\u001b[0mrun\u001b[0m\u001b[1;33m(\u001b[0m\u001b[1;33m[\u001b[0m\u001b[0moptimizer\u001b[0m\u001b[1;33m,\u001b[0m \u001b[0mcost\u001b[0m\u001b[1;33m]\u001b[0m\u001b[1;33m,\u001b[0m \u001b[0mfeed_dict\u001b[0m\u001b[1;33m=\u001b[0m\u001b[1;33m{\u001b[0m\u001b[0mX\u001b[0m\u001b[1;33m:\u001b[0m \u001b[0mmini_X\u001b[0m\u001b[1;33m,\u001b[0m \u001b[0mY\u001b[0m\u001b[1;33m:\u001b[0m \u001b[0mmini_Y\u001b[0m\u001b[1;33m}\u001b[0m\u001b[1;33m)\u001b[0m\u001b[1;33m\u001b[0m\u001b[0m\n\u001b[0m\u001b[0;32m     41\u001b[0m                 \u001b[0mepoch_cost\u001b[0m \u001b[1;33m+=\u001b[0m \u001b[0mmini_cost\u001b[0m \u001b[1;33m/\u001b[0m \u001b[0mnum_minibatches\u001b[0m\u001b[1;33m\u001b[0m\u001b[0m\n\u001b[0;32m     42\u001b[0m \u001b[1;33m\u001b[0m\u001b[0m\n",
      "\u001b[1;32mC:\\Anaconda3\\lib\\site-packages\\tensorflow\\python\\client\\session.py\u001b[0m in \u001b[0;36mrun\u001b[1;34m(self, fetches, feed_dict, options, run_metadata)\u001b[0m\n\u001b[0;32m    787\u001b[0m     \u001b[1;32mtry\u001b[0m\u001b[1;33m:\u001b[0m\u001b[1;33m\u001b[0m\u001b[0m\n\u001b[0;32m    788\u001b[0m       result = self._run(None, fetches, feed_dict, options_ptr,\n\u001b[1;32m--> 789\u001b[1;33m                          run_metadata_ptr)\n\u001b[0m\u001b[0;32m    790\u001b[0m       \u001b[1;32mif\u001b[0m \u001b[0mrun_metadata\u001b[0m\u001b[1;33m:\u001b[0m\u001b[1;33m\u001b[0m\u001b[0m\n\u001b[0;32m    791\u001b[0m         \u001b[0mproto_data\u001b[0m \u001b[1;33m=\u001b[0m \u001b[0mtf_session\u001b[0m\u001b[1;33m.\u001b[0m\u001b[0mTF_GetBuffer\u001b[0m\u001b[1;33m(\u001b[0m\u001b[0mrun_metadata_ptr\u001b[0m\u001b[1;33m)\u001b[0m\u001b[1;33m\u001b[0m\u001b[0m\n",
      "\u001b[1;32mC:\\Anaconda3\\lib\\site-packages\\tensorflow\\python\\client\\session.py\u001b[0m in \u001b[0;36m_run\u001b[1;34m(self, handle, fetches, feed_dict, options, run_metadata)\u001b[0m\n\u001b[0;32m    995\u001b[0m     \u001b[1;32mif\u001b[0m \u001b[0mfinal_fetches\u001b[0m \u001b[1;32mor\u001b[0m \u001b[0mfinal_targets\u001b[0m\u001b[1;33m:\u001b[0m\u001b[1;33m\u001b[0m\u001b[0m\n\u001b[0;32m    996\u001b[0m       results = self._do_run(handle, final_targets, final_fetches,\n\u001b[1;32m--> 997\u001b[1;33m                              feed_dict_string, options, run_metadata)\n\u001b[0m\u001b[0;32m    998\u001b[0m     \u001b[1;32melse\u001b[0m\u001b[1;33m:\u001b[0m\u001b[1;33m\u001b[0m\u001b[0m\n\u001b[0;32m    999\u001b[0m       \u001b[0mresults\u001b[0m \u001b[1;33m=\u001b[0m \u001b[1;33m[\u001b[0m\u001b[1;33m]\u001b[0m\u001b[1;33m\u001b[0m\u001b[0m\n",
      "\u001b[1;32mC:\\Anaconda3\\lib\\site-packages\\tensorflow\\python\\client\\session.py\u001b[0m in \u001b[0;36m_do_run\u001b[1;34m(self, handle, target_list, fetch_list, feed_dict, options, run_metadata)\u001b[0m\n\u001b[0;32m   1130\u001b[0m     \u001b[1;32mif\u001b[0m \u001b[0mhandle\u001b[0m \u001b[1;32mis\u001b[0m \u001b[1;32mNone\u001b[0m\u001b[1;33m:\u001b[0m\u001b[1;33m\u001b[0m\u001b[0m\n\u001b[0;32m   1131\u001b[0m       return self._do_call(_run_fn, self._session, feed_dict, fetch_list,\n\u001b[1;32m-> 1132\u001b[1;33m                            target_list, options, run_metadata)\n\u001b[0m\u001b[0;32m   1133\u001b[0m     \u001b[1;32melse\u001b[0m\u001b[1;33m:\u001b[0m\u001b[1;33m\u001b[0m\u001b[0m\n\u001b[0;32m   1134\u001b[0m       return self._do_call(_prun_fn, self._session, handle, feed_dict,\n",
      "\u001b[1;32mC:\\Anaconda3\\lib\\site-packages\\tensorflow\\python\\client\\session.py\u001b[0m in \u001b[0;36m_do_call\u001b[1;34m(self, fn, *args)\u001b[0m\n\u001b[0;32m   1137\u001b[0m   \u001b[1;32mdef\u001b[0m \u001b[0m_do_call\u001b[0m\u001b[1;33m(\u001b[0m\u001b[0mself\u001b[0m\u001b[1;33m,\u001b[0m \u001b[0mfn\u001b[0m\u001b[1;33m,\u001b[0m \u001b[1;33m*\u001b[0m\u001b[0margs\u001b[0m\u001b[1;33m)\u001b[0m\u001b[1;33m:\u001b[0m\u001b[1;33m\u001b[0m\u001b[0m\n\u001b[0;32m   1138\u001b[0m     \u001b[1;32mtry\u001b[0m\u001b[1;33m:\u001b[0m\u001b[1;33m\u001b[0m\u001b[0m\n\u001b[1;32m-> 1139\u001b[1;33m       \u001b[1;32mreturn\u001b[0m \u001b[0mfn\u001b[0m\u001b[1;33m(\u001b[0m\u001b[1;33m*\u001b[0m\u001b[0margs\u001b[0m\u001b[1;33m)\u001b[0m\u001b[1;33m\u001b[0m\u001b[0m\n\u001b[0m\u001b[0;32m   1140\u001b[0m     \u001b[1;32mexcept\u001b[0m \u001b[0merrors\u001b[0m\u001b[1;33m.\u001b[0m\u001b[0mOpError\u001b[0m \u001b[1;32mas\u001b[0m \u001b[0me\u001b[0m\u001b[1;33m:\u001b[0m\u001b[1;33m\u001b[0m\u001b[0m\n\u001b[0;32m   1141\u001b[0m       \u001b[0mmessage\u001b[0m \u001b[1;33m=\u001b[0m \u001b[0mcompat\u001b[0m\u001b[1;33m.\u001b[0m\u001b[0mas_text\u001b[0m\u001b[1;33m(\u001b[0m\u001b[0me\u001b[0m\u001b[1;33m.\u001b[0m\u001b[0mmessage\u001b[0m\u001b[1;33m)\u001b[0m\u001b[1;33m\u001b[0m\u001b[0m\n",
      "\u001b[1;32mC:\\Anaconda3\\lib\\site-packages\\tensorflow\\python\\client\\session.py\u001b[0m in \u001b[0;36m_run_fn\u001b[1;34m(session, feed_dict, fetch_list, target_list, options, run_metadata)\u001b[0m\n\u001b[0;32m   1119\u001b[0m         return tf_session.TF_Run(session, options,\n\u001b[0;32m   1120\u001b[0m                                  \u001b[0mfeed_dict\u001b[0m\u001b[1;33m,\u001b[0m \u001b[0mfetch_list\u001b[0m\u001b[1;33m,\u001b[0m \u001b[0mtarget_list\u001b[0m\u001b[1;33m,\u001b[0m\u001b[1;33m\u001b[0m\u001b[0m\n\u001b[1;32m-> 1121\u001b[1;33m                                  status, run_metadata)\n\u001b[0m\u001b[0;32m   1122\u001b[0m \u001b[1;33m\u001b[0m\u001b[0m\n\u001b[0;32m   1123\u001b[0m     \u001b[1;32mdef\u001b[0m \u001b[0m_prun_fn\u001b[0m\u001b[1;33m(\u001b[0m\u001b[0msession\u001b[0m\u001b[1;33m,\u001b[0m \u001b[0mhandle\u001b[0m\u001b[1;33m,\u001b[0m \u001b[0mfeed_dict\u001b[0m\u001b[1;33m,\u001b[0m \u001b[0mfetch_list\u001b[0m\u001b[1;33m)\u001b[0m\u001b[1;33m:\u001b[0m\u001b[1;33m\u001b[0m\u001b[0m\n",
      "\u001b[1;31mKeyboardInterrupt\u001b[0m: "
     ]
    }
   ],
   "source": [
    "%%time\n",
    "tf.reset_default_graph()\n",
    "parameters = model(X_train_flat, y_train_hot, X_val_flat, y_val_hot, n_hidden1=128, n_hidden2=64, num_epochs=300)"
   ]
  },
  {
   "cell_type": "code",
   "execution_count": 63,
   "metadata": {},
   "outputs": [
    {
     "name": "stdout",
     "output_type": "stream",
     "text": [
      "Train Accuracy: 1.0\n",
      "Dev Accuracy: 0.9793\n",
      "Test Accuracy: 0.9803\n"
     ]
    }
   ],
   "source": [
    "# show overall performance\n",
    "XT, YT = createPlaceHolders(n, c)\n",
    "Z = forwardProp(XT, parameters)\n",
    "correct_prediction = tf.cast(tf.equal(tf.argmax(Z, axis=1), tf.argmax(YT, axis=1)), tf.float32)\n",
    "accuracy = tf.reduce_mean(correct_prediction)\n",
    "\n",
    "with tf.Session() as sess:\n",
    "    acc = sess.run(accuracy, feed_dict = {XT: X_train_flat, YT: y_train_hot})\n",
    "    print (\"Train Accuracy:\", acc)\n",
    "    acc = sess.run(accuracy, feed_dict = {XT: X_val_flat, YT: y_val_hot})\n",
    "    print (\"Dev Accuracy:\", acc)\n",
    "    acc = sess.run(accuracy, feed_dict = {XT: X_test_flat, YT: y_test_hot})\n",
    "    print (\"Test Accuracy:\", acc)"
   ]
  },
  {
   "cell_type": "code",
   "execution_count": null,
   "metadata": {},
   "outputs": [],
   "source": [
    "# pass raw image and raw label for prediction\n",
    "def predictRawImage(img, parameters, y):\n",
    "    x = img.reshape((1, img.shape[0]* img.shape[1]))\n",
    "    XT, YT = createPlaceHolders(n, c)\n",
    "    y_hat = forwardProp(XT, parameters)\n",
    "    predict = tf.argmax(y_hat, axis=1)\n",
    "\n",
    "    with tf.Session() as sess:\n",
    "            y_predict = sess.run(predict, feed_dict={XT: x})\n",
    "            print(\"The prediction is %i, the label is %s\" % (np.squeeze(y_predict), str(y)))\n",
    "\n",
    "    %matplotlib inline\n",
    "    plt.imshow(img, cmap=\"Greys\");\n"
   ]
  },
  {
   "cell_type": "code",
   "execution_count": null,
   "metadata": {},
   "outputs": [],
   "source": [
    "# Testing block\n",
    "index = 666\n",
    "predictRawImage(X_test[index, :], parameters, y_test[index])\n"
   ]
  },
  {
   "cell_type": "code",
   "execution_count": null,
   "metadata": {
    "collapsed": true
   },
   "outputs": [],
   "source": []
  }
 ],
 "metadata": {
  "kernelspec": {
   "display_name": "Python 3",
   "language": "python",
   "name": "python3"
  },
  "language_info": {
   "codemirror_mode": {
    "name": "ipython",
    "version": 3
   },
   "file_extension": ".py",
   "mimetype": "text/x-python",
   "name": "python",
   "nbconvert_exporter": "python",
   "pygments_lexer": "ipython3",
   "version": "3.6.3"
  }
 },
 "nbformat": 4,
 "nbformat_minor": 2
}
